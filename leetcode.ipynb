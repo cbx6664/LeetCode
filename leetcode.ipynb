{
 "cells": [
  {
   "cell_type": "markdown",
   "metadata": {},
   "source": [
    "# LinkedList\n"
   ]
  },
  {
   "cell_type": "markdown",
   "metadata": {},
   "source": [
    "## 206. Reverse Linked List"
   ]
  },
  {
   "cell_type": "code",
   "execution_count": null,
   "metadata": {},
   "outputs": [],
   "source": [
    "# Definition for singly-linked list.\n",
    "# class ListNode:\n",
    "#     def __init__(self, val=0, next=None):\n",
    "#         self.val = val\n",
    "#         self.next = next\n",
    "class Solution:\n",
    "    def reverseList(self, head: Optional[ListNode]) -> Optional[ListNode]:\n",
    "        prev = None\n",
    "        next = None\n",
    "        curr = head\n",
    "\n",
    "        while curr:\n",
    "            # 先更新next, next负责给curr提供引用\n",
    "            next = curr.next\n",
    "            # 再更新curr.next\n",
    "            curr.next = prev\n",
    "            # prev ++\n",
    "            prev = curr\n",
    "            # 最后更新 curr\n",
    "            curr = next\n",
    "        \n",
    "        return prev\n",
    "            \n"
   ]
  },
  {
   "cell_type": "markdown",
   "metadata": {},
   "source": [
    "# Simulation\n"
   ]
  },
  {
   "cell_type": "markdown",
   "metadata": {},
   "source": [
    "## 6. Zigzag Conversion"
   ]
  },
  {
   "cell_type": "code",
   "execution_count": 7,
   "metadata": {},
   "outputs": [
    {
     "data": {
      "text/plain": [
       "'PAHNAPLSIIGYIR'"
      ]
     },
     "execution_count": 7,
     "metadata": {},
     "output_type": "execute_result"
    }
   ],
   "source": [
    "class Solution:\n",
    "    def convert(self, s: str, numRows: int) -> str:\n",
    "        if numRows < 2: return s\n",
    "        res = [\"\" for _ in range(numRows)]\n",
    "        i, flag = 0, -1\n",
    "        for c in s:\n",
    "            res[i] += c\n",
    "            if i == 0 or i == numRows - 1: flag = -flag\n",
    "            i += flag\n",
    "        return \"\".join(res)\n",
    "    \n",
    "solution = Solution()\n",
    "solution.convert(s=\"PAYPALISHIRING\", numRows=3)"
   ]
  },
  {
   "cell_type": "markdown",
   "metadata": {},
   "source": [
    "## 8. String to Integer (atoi)"
   ]
  },
  {
   "cell_type": "code",
   "execution_count": null,
   "metadata": {},
   "outputs": [],
   "source": [
    "class Solution:\n",
    "    def myAtoi(self, s: str) -> int:\n",
    "        sign = 1\n",
    "        res = \"\"\n",
    "        digit = ['0','1','2','3','4','5','6','7','8','9']\n",
    "        for i in s:\n",
    "            if i==' ': continue\n",
    "            if i=='-': \n",
    "                sign = -1\n",
    "                continue\n",
    "            if i=='0': continue\n",
    "            if i not in digit: break \n",
    "            res+=i\n",
    "\n",
    "            \n",
    "        if len(res)!=0:\n",
    "            num = int(res)\n",
    "            if num > 2**31 -1:\n",
    "                return sign*(2**31) - 1\n",
    "            if num < -2**31:\n",
    "                return sign*(-2**31)\n",
    "\n",
    "            return sign*num\n",
    "\n",
    "        else: return 0"
   ]
  },
  {
   "cell_type": "code",
   "execution_count": 15,
   "metadata": {},
   "outputs": [
    {
     "name": "stdout",
     "output_type": "stream",
     "text": [
      "42\n"
     ]
    }
   ],
   "source": [
    "solution=Solution()\n",
    "print(solution.myAtoi(\"   -042\"))"
   ]
  }
 ],
 "metadata": {
  "kernelspec": {
   "display_name": "base",
   "language": "python",
   "name": "python3"
  },
  "language_info": {
   "codemirror_mode": {
    "name": "ipython",
    "version": 3
   },
   "file_extension": ".py",
   "mimetype": "text/x-python",
   "name": "python",
   "nbconvert_exporter": "python",
   "pygments_lexer": "ipython3",
   "version": "3.12.8"
  }
 },
 "nbformat": 4,
 "nbformat_minor": 2
}
